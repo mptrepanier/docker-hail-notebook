{
 "cells": [
  {
   "cell_type": "markdown",
   "metadata": {},
   "source": [
    "# Hail Introduction"
   ]
  },
  {
   "cell_type": "markdown",
   "metadata": {},
   "source": [
    "Tutorial snippet from: https://hail.is/docs/stable/tutorials/hail-overview.html\n",
    "\n",
    "We begin with some imports."
   ]
  },
  {
   "cell_type": "code",
   "execution_count": 1,
   "metadata": {
    "collapsed": true
   },
   "outputs": [],
   "source": [
    "from hail import *\n",
    "import numpy as np\n",
    "import pandas as pd\n",
    "import matplotlib.pyplot as plt\n",
    "import matplotlib.patches as mpatches\n",
    "from collections import Counter\n",
    "from math import log, isnan\n",
    "from pprint import pprint\n",
    "import seaborn\n",
    "%matplotlib inline"
   ]
  },
  {
   "cell_type": "markdown",
   "metadata": {},
   "source": [
    "As well, let's ensure the tutorial data is available."
   ]
  },
  {
   "cell_type": "code",
   "execution_count": 2,
   "metadata": {},
   "outputs": [
    {
     "name": "stdout",
     "output_type": "stream",
     "text": [
      "All files are present and accounted for!\n"
     ]
    }
   ],
   "source": [
    "import os\n",
    "if os.path.isdir('data/1kg.vds') and os.path.isfile('data/1kg_annotations.txt'):\n",
    "    print('All files are present and accounted for!')\n",
    "else:\n",
    "    import sys\n",
    "    sys.stderr.write('Downloading data (~50M) from Google Storage...\\n')\n",
    "    import urllib\n",
    "    import tarfile\n",
    "    urllib.urlretrieve('https://storage.googleapis.com/hail-1kg/tutorial_data.tar',\n",
    "                       'tutorial_data.tar')\n",
    "    sys.stderr.write('Download finished!\\n')\n",
    "    sys.stderr.write('Extracting...\\n')\n",
    "    tarfile.open('tutorial_data.tar').extractall()\n",
    "    if not (os.path.isdir('data/1kg.vds') and os.path.isfile('data/1kg_annotations.txt')):\n",
    "        raise RuntimeError('Something went wrong!')\n",
    "    else:\n",
    "        sys.stderr.write('Done!\\n')"
   ]
  },
  {
   "cell_type": "markdown",
   "metadata": {},
   "source": [
    "Each notebook starts the same: creating a `HailContext`. Below, we do this and read in a vcf file from Google Cloud Storage."
   ]
  },
  {
   "cell_type": "code",
   "execution_count": 3,
   "metadata": {},
   "outputs": [
    {
     "name": "stderr",
     "output_type": "stream",
     "text": [
      "Running on Apache Spark version 2.0.2\n",
      "SparkUI available at http://192.168.56.1:4040\n",
      "Welcome to\n",
      "     __  __     <>__\n",
      "    / /_/ /__  __/ /\n",
      "   / __  / _ `/ / /\n",
      "  /_/ /_/\\_,_/_/_/   version 0.1-20613ed\n",
      "2018-03-14 15:04:10 Hail: WARN: called redundant split on an already split VDS\n"
     ]
    },
    {
     "name": "stdout",
     "output_type": "stream",
     "text": [
      "\n",
      "         Samples: 1000\n",
      "        Variants: 10961\n",
      "       Call Rate: 0.983163\n",
      "         Contigs: ['X', '12', '8', '19', '4', '15', '11', '9', '22', '13', '16', '5', '10', '21', '6', '1', '17', '14', '20', '2', '18', '7', '3']\n",
      "   Multiallelics: 0\n",
      "            SNPs: 10961\n",
      "            MNPs: 0\n",
      "      Insertions: 0\n",
      "       Deletions: 0\n",
      " Complex Alleles: 0\n",
      "    Star Alleles: 0\n",
      "     Max Alleles: 2\n"
     ]
    }
   ],
   "source": [
    "hc = HailContext()\n",
    "vds = hc.read('data/1kg.vds').split_multi()\n",
    "vds.summarize().report()"
   ]
  },
  {
   "cell_type": "markdown",
   "metadata": {},
   "source": [
    "The query_variants method is the first time we’ll see the Hail expression language. The expression language allows for a variety of incredibly expressive queries and computations, but is probably the most complex part of Hail. See the pair of tutorials on the expression language to learn more!"
   ]
  },
  {
   "cell_type": "code",
   "execution_count": 4,
   "metadata": {},
   "outputs": [
    {
     "data": {
      "text/plain": [
       "[Variant(contig=4, start=53456416, ref=C, alts=[AltAllele(ref=C, alt=A)]),\n",
       " Variant(contig=4, start=53731802, ref=G, alts=[AltAllele(ref=G, alt=A)]),\n",
       " Variant(contig=4, start=53959141, ref=C, alts=[AltAllele(ref=C, alt=T)]),\n",
       " Variant(contig=4, start=54218834, ref=G, alts=[AltAllele(ref=G, alt=A)]),\n",
       " Variant(contig=4, start=54344759, ref=T, alts=[AltAllele(ref=T, alt=C)])]"
      ]
     },
     "execution_count": 4,
     "metadata": {},
     "output_type": "execute_result"
    }
   ],
   "source": [
    "vds.query_variants('variants.take(5)')"
   ]
  },
  {
   "cell_type": "markdown",
   "metadata": {
    "collapsed": true
   },
   "source": [
    "There are often several ways to do something in Hail. Here are two ways to peek at the first few sample IDs:"
   ]
  },
  {
   "cell_type": "code",
   "execution_count": 5,
   "metadata": {},
   "outputs": [
    {
     "data": {
      "text/plain": [
       "[u'HG00096', u'HG00097', u'HG00099', u'HG00100', u'HG00101']"
      ]
     },
     "execution_count": 5,
     "metadata": {},
     "output_type": "execute_result"
    }
   ],
   "source": [
    "vds.query_samples('samples.take(5)')"
   ]
  },
  {
   "cell_type": "code",
   "execution_count": 6,
   "metadata": {},
   "outputs": [
    {
     "data": {
      "text/plain": [
       "[u'HG00096', u'HG00097', u'HG00099', u'HG00100', u'HG00101']"
      ]
     },
     "execution_count": 6,
     "metadata": {},
     "output_type": "execute_result"
    }
   ],
   "source": [
    "vds.sample_ids[:5]"
   ]
  },
  {
   "cell_type": "markdown",
   "metadata": {},
   "source": [
    "There’s a similar interface for looking at the genotypes in a dataset. We use `query_genotypes` to look at the first few genotype calls."
   ]
  },
  {
   "cell_type": "code",
   "execution_count": 7,
   "metadata": {},
   "outputs": [
    {
     "data": {
      "text/plain": [
       "[Genotype(GT=1, AD=[2, 2], DP=4, GQ=59, PL=[59, 0, 79]),\n",
       " Genotype(GT=0, AD=[7, 0], DP=7, GQ=21, PL=[0, 21, 259]),\n",
       " Genotype(GT=1, AD=[6, 5], DP=11, GQ=99, PL=[123, 0, 200]),\n",
       " Genotype(GT=0, AD=[9, 0], DP=9, GQ=27, PL=[0, 27, 340]),\n",
       " Genotype(GT=1, AD=[2, 6], DP=8, GQ=51, PL=[165, 0, 51])]"
      ]
     },
     "execution_count": 7,
     "metadata": {},
     "output_type": "execute_result"
    }
   ],
   "source": [
    "vds.query_genotypes('gs.take(5)')"
   ]
  },
  {
   "cell_type": "markdown",
   "metadata": {},
   "source": [
    "## Integrate Sample Annotations"
   ]
  },
  {
   "cell_type": "markdown",
   "metadata": {},
   "source": [
    "Hail treats variant and sample annotations as first-class citizens. Annotations are usually a critical part of any genetic study. Sample annotations are where you’ll store information about sample phenotypes, ancestry, sex, and covariates. Variant annotations can be used to store information like gene membership and functional impact for use in QC or analysis.\n",
    "\n",
    "In this tutorial, we demonstrate how to take a text file and use it to annotate the samples in a VDS.\n",
    "\n",
    "iPython supports various cell “magics”. The `%%sh` magic is one which interprets the cell with bash, rather than Python. We can use this to look at the first few lines of our annotation file. This file contains the sample ID, the population and “super-population” designations, the sample sex, and two simulated phenotypes (one binary, one discrete)."
   ]
  },
  {
   "cell_type": "code",
   "execution_count": 8,
   "metadata": {},
   "outputs": [
    {
     "name": "stdout",
     "output_type": "stream",
     "text": [
      "Sample   Population  SuperPopulation  isFemale  PurpleHair  CaffeineConsumption\n",
      "NA19784  MXL         AMR              false     false       8\n",
      "NA19102  YRI         AFR              true      false       6\n",
      "HG00141  GBR         EUR              false     false       6\n",
      "HG01890  ACB         AFR              false     false       8\n",
      "HG00263  GBR         EUR              true      true        6\n",
      "NA20908  GIH         SAS              true      true        9\n",
      "HG04075  STU         SAS              true      false       9\n",
      "NA18982  JPT         EAS              false     false       5\n",
      "NA12873  CEU         EUR              true      false       6\n"
     ]
    }
   ],
   "source": [
    "%%sh\n",
    "head data/1kg_annotations.txt | column -t"
   ]
  },
  {
   "cell_type": "markdown",
   "metadata": {},
   "source": [
    "This file can be imported into Hail with HailContext.import_table. This method produces a KeyTable object. Think of this as a Pandas or R dataframe that isn’t limited by the memory on your machine – behind the scenes, it’s distributed with Spark."
   ]
  },
  {
   "cell_type": "code",
   "execution_count": 9,
   "metadata": {},
   "outputs": [
    {
     "name": "stderr",
     "output_type": "stream",
     "text": [
      "2018-03-14 15:07:26 Hail: INFO: Reading table to impute column types\n",
      "2018-03-14 15:07:26 Hail: INFO: Finished type imputation\n",
      "  Loading column `Sample' as type String (imputed)\n",
      "  Loading column `Population' as type String (imputed)\n",
      "  Loading column `SuperPopulation' as type String (imputed)\n",
      "  Loading column `isFemale' as type Boolean (imputed)\n",
      "  Loading column `PurpleHair' as type Boolean (imputed)\n",
      "  Loading column `CaffeineConsumption' as type Int (imputed)\n"
     ]
    }
   ],
   "source": [
    "table = hc.import_table('data/1kg_annotations.txt', impute=True)\\\n",
    "    .key_by('Sample')"
   ]
  },
  {
   "cell_type": "code",
   "execution_count": 10,
   "metadata": {},
   "outputs": [
    {
     "name": "stdout",
     "output_type": "stream",
     "text": [
      "Struct{Sample:String,Population:String,SuperPopulation:String,isFemale:Boolean,PurpleHair:Boolean,CaffeineConsumption:Int}\n"
     ]
    }
   ],
   "source": [
    "print(table.schema)"
   ]
  },
  {
   "cell_type": "markdown",
   "metadata": {},
   "source": [
    "The Python pprint method makes illegible printouts pretty:"
   ]
  },
  {
   "cell_type": "code",
   "execution_count": 11,
   "metadata": {},
   "outputs": [
    {
     "name": "stdout",
     "output_type": "stream",
     "text": [
      "Struct{\n",
      "     Sample: String,\n",
      "     Population: String,\n",
      "     SuperPopulation: String,\n",
      "     isFemale: Boolean,\n",
      "     PurpleHair: Boolean,\n",
      "     CaffeineConsumption: Int\n",
      " }\n"
     ]
    }
   ],
   "source": [
    "pprint(table.schema)"
   ]
  },
  {
   "cell_type": "markdown",
   "metadata": {},
   "source": [
    "Although we used the %%sh magic to look at the first lines of the table, there’s a better way. We can convert the table to a Spark DataFrame and use its .show() method:"
   ]
  },
  {
   "cell_type": "code",
   "execution_count": 12,
   "metadata": {},
   "outputs": [
    {
     "name": "stdout",
     "output_type": "stream",
     "text": [
      "+-------+----------+---------------+--------+----------+-------------------+\n",
      "| Sample|Population|SuperPopulation|isFemale|PurpleHair|CaffeineConsumption|\n",
      "+-------+----------+---------------+--------+----------+-------------------+\n",
      "|NA19784|       MXL|            AMR|   false|     false|                  8|\n",
      "|NA19102|       YRI|            AFR|    true|     false|                  6|\n",
      "|HG00141|       GBR|            EUR|   false|     false|                  6|\n",
      "|HG01890|       ACB|            AFR|   false|     false|                  8|\n",
      "|HG00263|       GBR|            EUR|    true|      true|                  6|\n",
      "|NA20908|       GIH|            SAS|    true|      true|                  9|\n",
      "|HG04075|       STU|            SAS|    true|     false|                  9|\n",
      "|NA18982|       JPT|            EAS|   false|     false|                  5|\n",
      "|NA12873|       CEU|            EUR|    true|     false|                  6|\n",
      "|HG02677|       GWD|            AFR|    true|      true|                  5|\n",
      "+-------+----------+---------------+--------+----------+-------------------+\n",
      "only showing top 10 rows\n",
      "\n"
     ]
    }
   ],
   "source": [
    "table.to_dataframe().show(10)"
   ]
  },
  {
   "cell_type": "markdown",
   "metadata": {},
   "source": [
    "Now we’ll use this table to add sample annotations to our dataset. First, we’ll print the schema of the sample annotations already there:"
   ]
  },
  {
   "cell_type": "code",
   "execution_count": 13,
   "metadata": {},
   "outputs": [
    {
     "name": "stdout",
     "output_type": "stream",
     "text": [
      "Empty\n"
     ]
    }
   ],
   "source": [
    "pprint(vds.sample_schema)"
   ]
  },
  {
   "cell_type": "markdown",
   "metadata": {},
   "source": [
    "We use the annotate_samples_table method to join the table with the VDS."
   ]
  },
  {
   "cell_type": "code",
   "execution_count": 14,
   "metadata": {},
   "outputs": [
    {
     "name": "stdout",
     "output_type": "stream",
     "text": [
      "Struct{\n",
      "     Population: String,\n",
      "     SuperPopulation: String,\n",
      "     isFemale: Boolean,\n",
      "     PurpleHair: Boolean,\n",
      "     CaffeineConsumption: Int\n",
      " }\n"
     ]
    }
   ],
   "source": [
    "vds = vds.annotate_samples_table(table, root='sa')\n",
    "pprint(vds.sample_schema)"
   ]
  },
  {
   "cell_type": "markdown",
   "metadata": {},
   "source": [
    "## Query Functions and the Hail Expression Language"
   ]
  },
  {
   "cell_type": "markdown",
   "metadata": {},
   "source": [
    "We start by looking at some statistics of the information in our table. The query method uses the expression language to aggregate over the rows of the table.\n",
    "\n",
    "`counter` is an aggregation function that counts the number of occurrences of each unique element. We can use this to pull out the population distribution."
   ]
  },
  {
   "cell_type": "code",
   "execution_count": 15,
   "metadata": {},
   "outputs": [
    {
     "name": "stdout",
     "output_type": "stream",
     "text": [
      "{u'AFR': 1018L, u'AMR': 535L, u'EAS': 617L, u'EUR': 669L, u'SAS': 661L}\n"
     ]
    }
   ],
   "source": [
    "pprint(table.query('SuperPopulation.counter()'))"
   ]
  },
  {
   "cell_type": "markdown",
   "metadata": {},
   "source": [
    "`stats` is an aggregation function that produces some useful statistics about numeric collections. We can use this to see the distribution of the CaffeineConsumption phenotype."
   ]
  },
  {
   "cell_type": "code",
   "execution_count": 16,
   "metadata": {},
   "outputs": [
    {
     "name": "stdout",
     "output_type": "stream",
     "text": [
      "{u'max': 10.0,\n",
      " u'mean': 6.219714285714286,\n",
      " u'min': 3.0,\n",
      " u'nNotMissing': 3500L,\n",
      " u'stdev': 1.9387801550964772,\n",
      " u'sum': 21769.0}\n"
     ]
    }
   ],
   "source": [
    "pprint(table.query('CaffeineConsumption.stats()'))"
   ]
  },
  {
   "cell_type": "markdown",
   "metadata": {},
   "source": [
    "However, these metrics aren’t perfectly representative of the samples in our dataset. Here’s why:"
   ]
  },
  {
   "cell_type": "code",
   "execution_count": 17,
   "metadata": {},
   "outputs": [
    {
     "data": {
      "text/plain": [
       "3500L"
      ]
     },
     "execution_count": 17,
     "metadata": {},
     "output_type": "execute_result"
    }
   ],
   "source": [
    "table.count()"
   ]
  },
  {
   "cell_type": "code",
   "execution_count": 18,
   "metadata": {},
   "outputs": [
    {
     "data": {
      "text/plain": [
       "1000"
      ]
     },
     "execution_count": 18,
     "metadata": {},
     "output_type": "execute_result"
    }
   ],
   "source": [
    "vds.num_samples"
   ]
  },
  {
   "cell_type": "markdown",
   "metadata": {},
   "source": [
    "Since there are fewer samples in our dataset than in the full thousand genomes cohort, we need to look at annotations on the dataset. We can do this with query_samples."
   ]
  },
  {
   "cell_type": "code",
   "execution_count": 19,
   "metadata": {},
   "outputs": [
    {
     "data": {
      "text/plain": [
       "{u'AFR': 101L, u'AMR': 285L, u'EAS': 308L, u'EUR': 298L, u'SAS': 8L}"
      ]
     },
     "execution_count": 19,
     "metadata": {},
     "output_type": "execute_result"
    }
   ],
   "source": [
    "vds.query_samples('samples.map(s => sa.SuperPopulation).counter()')"
   ]
  },
  {
   "cell_type": "code",
   "execution_count": 20,
   "metadata": {},
   "outputs": [
    {
     "name": "stdout",
     "output_type": "stream",
     "text": [
      "{u'max': 10.0,\n",
      " u'mean': 6.783000000000003,\n",
      " u'min': 3.0,\n",
      " u'nNotMissing': 1000L,\n",
      " u'stdev': 1.624780292839619,\n",
      " u'sum': 6783.000000000003}\n"
     ]
    }
   ],
   "source": [
    "pprint(vds.query_samples('samples.map(s => sa.CaffeineConsumption).stats()'))"
   ]
  },
  {
   "cell_type": "markdown",
   "metadata": {},
   "source": [
    "The functionality demonstrated in the last few cells isn’t anything especially new: it’s certainly not difficult to ask these questions with Pandas or R dataframes, or even Unix tools like `awk`. But Hail can use the same interfaces and query language to analyze collections that are much larger, like the set of variants.\n",
    "\n",
    "Here we calculate the counts of each of the 12 possible unique SNPs (4 choices for the reference base * 3 choices for the alternate base). To do this, we need to map the variants to their alternate allele, filter to SNPs, and count by unique ref/alt pair:"
   ]
  },
  {
   "cell_type": "code",
   "execution_count": 21,
   "metadata": {},
   "outputs": [
    {
     "name": "stdout",
     "output_type": "stream",
     "text": [
      "[(AltAllele(ref=C, alt=T), 2436L),\n",
      " (AltAllele(ref=G, alt=A), 2387L),\n",
      " (AltAllele(ref=A, alt=G), 1944L),\n",
      " (AltAllele(ref=T, alt=C), 1879L),\n",
      " (AltAllele(ref=C, alt=A), 496L),\n",
      " (AltAllele(ref=G, alt=T), 480L),\n",
      " (AltAllele(ref=T, alt=G), 468L),\n",
      " (AltAllele(ref=A, alt=C), 454L),\n",
      " (AltAllele(ref=C, alt=G), 150L),\n",
      " (AltAllele(ref=G, alt=C), 112L),\n",
      " (AltAllele(ref=T, alt=A), 79L),\n",
      " (AltAllele(ref=A, alt=T), 76L)]\n"
     ]
    }
   ],
   "source": [
    "snp_counts = vds.query_variants('variants.map(v => v.altAllele()).filter(aa => aa.isSNP()).counter()')\n",
    "pprint(Counter(snp_counts).most_common())"
   ]
  },
  {
   "cell_type": "markdown",
   "metadata": {},
   "source": [
    "It’s nice to see that we can actually uncover something biological from this small dataset: we see that these frequencies come in pairs. C/T and G/A are actually the same mutation, just viewed from from opposite strands. Likewise, T/A and A/T are the same mutation on opposite strands. There’s a 30x difference between the frequency of C/T and A/T SNPs. Why?\n",
    "\n",
    "The same Python, R, and Unix tools could do this work as well, but we’re starting to hit a wall - the latest gnomAD release publishes about 250 million variants, and that won’t fit in memory on a single computer.\n",
    "\n",
    "What about genotypes? Hail can query the collection of all genotypes in the dataset, and this is getting large even for our tiny dataset. Our 1,000 samples and 10,000 variants produce 10 million unique genotypes. The gnomAD dataset has about 5 trillion unique genotypes.\n",
    "\n",
    "Here we will use the `hist` aggregator to produce and plot a histogram of DP values for genotypes in our thousand genomes dataset."
   ]
  },
  {
   "cell_type": "code",
   "execution_count": 22,
   "metadata": {},
   "outputs": [
    {
     "name": "stderr",
     "output_type": "stream",
     "text": [
      "/home/mike/anaconda2/lib/python2.7/site-packages/matplotlib/font_manager.py:1297: UserWarning: findfont: Font family [u'sans-serif'] not found. Falling back to DejaVu Sans\n",
      "  (prop.get_family(), self.defaultFamily[fontext]))\n"
     ]
    },
    {
     "data": {
      "image/png": "[encoded data removed]",
      "text/plain": [
       "<matplotlib.figure.Figure at 0x7f2cd890b990>"
      ]
     },
     "metadata": {},
     "output_type": "display_data"
    }
   ],
   "source": [
    "dp_hist = vds.query_genotypes('gs.map(g => g.dp).hist(0, 30, 30)')\n",
    "plt.xlim(0, 31)\n",
    "plt.bar(dp_hist.binEdges[1:], dp_hist.binFrequencies)\n",
    "plt.show()"
   ]
  },
  {
   "cell_type": "markdown",
   "metadata": {},
   "source": [
    "## Quality Control\n",
    "\n",
    "QC is where analysts spend most of their time with sequencing datasets. QC is an iterative process, and is different for every project: there is no “push-button” solution for QC. Each time the Broad collects a new group of samples, it finds new batch effects. However, by practicing open science and discussing the QC process and decisions with others, we can establish a set of best practices as a community.\n",
    "\n",
    "QC is entirely based on the ability to understand the properties of a dataset. Hail attempts to make this easier by providing the sample_qc method, which produces a set of useful metrics as sample annotations."
   ]
  },
  {
   "cell_type": "code",
   "execution_count": 23,
   "metadata": {},
   "outputs": [
    {
     "name": "stdout",
     "output_type": "stream",
     "text": [
      "Struct{\n",
      "     Population: String,\n",
      "     SuperPopulation: String,\n",
      "     isFemale: Boolean,\n",
      "     PurpleHair: Boolean,\n",
      "     CaffeineConsumption: Int\n",
      " }\n"
     ]
    }
   ],
   "source": [
    "pprint(vds.sample_schema)"
   ]
  },
  {
   "cell_type": "code",
   "execution_count": 24,
   "metadata": {
    "collapsed": true
   },
   "outputs": [],
   "source": [
    "vds = vds.sample_qc()"
   ]
  },
  {
   "cell_type": "code",
   "execution_count": 25,
   "metadata": {},
   "outputs": [
    {
     "name": "stdout",
     "output_type": "stream",
     "text": [
      "Struct{\n",
      "     Population: String,\n",
      "     SuperPopulation: String,\n",
      "     isFemale: Boolean,\n",
      "     PurpleHair: Boolean,\n",
      "     CaffeineConsumption: Int,\n",
      "     qc: Struct{\n",
      "         callRate: Double,\n",
      "         nCalled: Int,\n",
      "         nNotCalled: Int,\n",
      "         nHomRef: Int,\n",
      "         nHet: Int,\n",
      "         nHomVar: Int,\n",
      "         nSNP: Int,\n",
      "         nInsertion: Int,\n",
      "         nDeletion: Int,\n",
      "         nSingleton: Int,\n",
      "         nTransition: Int,\n",
      "         nTransversion: Int,\n",
      "         dpMean: Double,\n",
      "         dpStDev: Double,\n",
      "         gqMean: Double,\n",
      "         gqStDev: Double,\n",
      "         nNonRef: Int,\n",
      "         rTiTv: Double,\n",
      "         rHetHomVar: Double,\n",
      "         rInsertionDeletion: Double\n",
      "     }\n",
      " }\n"
     ]
    }
   ],
   "source": [
    "pprint(vds.sample_schema)"
   ]
  },
  {
   "cell_type": "markdown",
   "metadata": {},
   "source": [
    "Interoperability is a big part of Hail. We can pull out these new metrics to a Pandas dataframe with one line of code:"
   ]
  },
  {
   "cell_type": "code",
   "execution_count": 26,
   "metadata": {},
   "outputs": [
    {
     "data": {
      "text/html": [
       "<div>\n",
       "<style>\n",
       "    .dataframe thead tr:only-child th {\n",
       "        text-align: right;\n",
       "    }\n",
       "\n",
       "    .dataframe thead th {\n",
       "        text-align: left;\n",
       "    }\n",
       "\n",
       "    .dataframe tbody tr th {\n",
       "        vertical-align: top;\n",
       "    }\n",
       "</style>\n",
       "<table border=\"1\" class=\"dataframe\">\n",
       "  <thead>\n",
       "    <tr style=\"text-align: right;\">\n",
       "      <th></th>\n",
       "      <th>s</th>\n",
       "      <th>sa.Population</th>\n",
       "      <th>sa.SuperPopulation</th>\n",
       "      <th>sa.isFemale</th>\n",
       "      <th>sa.PurpleHair</th>\n",
       "      <th>sa.CaffeineConsumption</th>\n",
       "      <th>sa.qc.callRate</th>\n",
       "      <th>sa.qc.nCalled</th>\n",
       "      <th>sa.qc.nNotCalled</th>\n",
       "      <th>sa.qc.nHomRef</th>\n",
       "      <th>...</th>\n",
       "      <th>sa.qc.nTransition</th>\n",
       "      <th>sa.qc.nTransversion</th>\n",
       "      <th>sa.qc.dpMean</th>\n",
       "      <th>sa.qc.dpStDev</th>\n",
       "      <th>sa.qc.gqMean</th>\n",
       "      <th>sa.qc.gqStDev</th>\n",
       "      <th>sa.qc.nNonRef</th>\n",
       "      <th>sa.qc.rTiTv</th>\n",
       "      <th>sa.qc.rHetHomVar</th>\n",
       "      <th>sa.qc.rInsertionDeletion</th>\n",
       "    </tr>\n",
       "  </thead>\n",
       "  <tbody>\n",
       "    <tr>\n",
       "      <th>0</th>\n",
       "      <td>HG00096</td>\n",
       "      <td>GBR</td>\n",
       "      <td>EUR</td>\n",
       "      <td>False</td>\n",
       "      <td>False</td>\n",
       "      <td>6</td>\n",
       "      <td>0.979017</td>\n",
       "      <td>10731</td>\n",
       "      <td>230</td>\n",
       "      <td>6321</td>\n",
       "      <td>...</td>\n",
       "      <td>5233</td>\n",
       "      <td>1190</td>\n",
       "      <td>4.566828</td>\n",
       "      <td>2.343927</td>\n",
       "      <td>22.506570</td>\n",
       "      <td>22.531111</td>\n",
       "      <td>4410</td>\n",
       "      <td>4.397479</td>\n",
       "      <td>1.190760</td>\n",
       "      <td>None</td>\n",
       "    </tr>\n",
       "    <tr>\n",
       "      <th>1</th>\n",
       "      <td>HG00097</td>\n",
       "      <td>GBR</td>\n",
       "      <td>EUR</td>\n",
       "      <td>True</td>\n",
       "      <td>True</td>\n",
       "      <td>6</td>\n",
       "      <td>0.993705</td>\n",
       "      <td>10892</td>\n",
       "      <td>69</td>\n",
       "      <td>6152</td>\n",
       "      <td>...</td>\n",
       "      <td>5279</td>\n",
       "      <td>1251</td>\n",
       "      <td>9.440750</td>\n",
       "      <td>3.653101</td>\n",
       "      <td>42.334833</td>\n",
       "      <td>28.494689</td>\n",
       "      <td>4740</td>\n",
       "      <td>4.219824</td>\n",
       "      <td>1.648045</td>\n",
       "      <td>None</td>\n",
       "    </tr>\n",
       "    <tr>\n",
       "      <th>2</th>\n",
       "      <td>HG00099</td>\n",
       "      <td>GBR</td>\n",
       "      <td>EUR</td>\n",
       "      <td>True</td>\n",
       "      <td>False</td>\n",
       "      <td>6</td>\n",
       "      <td>0.988687</td>\n",
       "      <td>10837</td>\n",
       "      <td>124</td>\n",
       "      <td>6113</td>\n",
       "      <td>...</td>\n",
       "      <td>5377</td>\n",
       "      <td>1229</td>\n",
       "      <td>8.240004</td>\n",
       "      <td>3.720313</td>\n",
       "      <td>37.523761</td>\n",
       "      <td>28.130359</td>\n",
       "      <td>4724</td>\n",
       "      <td>4.375102</td>\n",
       "      <td>1.510096</td>\n",
       "      <td>None</td>\n",
       "    </tr>\n",
       "    <tr>\n",
       "      <th>3</th>\n",
       "      <td>HG00100</td>\n",
       "      <td>GBR</td>\n",
       "      <td>EUR</td>\n",
       "      <td>True</td>\n",
       "      <td>False</td>\n",
       "      <td>6</td>\n",
       "      <td>0.999909</td>\n",
       "      <td>10960</td>\n",
       "      <td>1</td>\n",
       "      <td>6088</td>\n",
       "      <td>...</td>\n",
       "      <td>5400</td>\n",
       "      <td>1238</td>\n",
       "      <td>12.756478</td>\n",
       "      <td>3.912233</td>\n",
       "      <td>52.740967</td>\n",
       "      <td>27.669909</td>\n",
       "      <td>4872</td>\n",
       "      <td>4.361874</td>\n",
       "      <td>1.758777</td>\n",
       "      <td>None</td>\n",
       "    </tr>\n",
       "    <tr>\n",
       "      <th>4</th>\n",
       "      <td>HG00101</td>\n",
       "      <td>GBR</td>\n",
       "      <td>EUR</td>\n",
       "      <td>False</td>\n",
       "      <td>True</td>\n",
       "      <td>8</td>\n",
       "      <td>0.995347</td>\n",
       "      <td>10910</td>\n",
       "      <td>51</td>\n",
       "      <td>6229</td>\n",
       "      <td>...</td>\n",
       "      <td>5358</td>\n",
       "      <td>1212</td>\n",
       "      <td>6.573118</td>\n",
       "      <td>2.887462</td>\n",
       "      <td>30.568286</td>\n",
       "      <td>25.611360</td>\n",
       "      <td>4681</td>\n",
       "      <td>4.420792</td>\n",
       "      <td>1.478031</td>\n",
       "      <td>None</td>\n",
       "    </tr>\n",
       "  </tbody>\n",
       "</table>\n",
       "<p>5 rows × 26 columns</p>\n",
       "</div>"
      ],
      "text/plain": [
       "         s sa.Population sa.SuperPopulation  sa.isFemale  sa.PurpleHair  \\\n",
       "0  HG00096           GBR                EUR        False          False   \n",
       "1  HG00097           GBR                EUR         True           True   \n",
       "2  HG00099           GBR                EUR         True          False   \n",
       "3  HG00100           GBR                EUR         True          False   \n",
       "4  HG00101           GBR                EUR        False           True   \n",
       "\n",
       "   sa.CaffeineConsumption  sa.qc.callRate  sa.qc.nCalled  sa.qc.nNotCalled  \\\n",
       "0                       6        0.979017          10731               230   \n",
       "1                       6        0.993705          10892                69   \n",
       "2                       6        0.988687          10837               124   \n",
       "3                       6        0.999909          10960                 1   \n",
       "4                       8        0.995347          10910                51   \n",
       "\n",
       "   sa.qc.nHomRef            ...             sa.qc.nTransition  \\\n",
       "0           6321            ...                          5233   \n",
       "1           6152            ...                          5279   \n",
       "2           6113            ...                          5377   \n",
       "3           6088            ...                          5400   \n",
       "4           6229            ...                          5358   \n",
       "\n",
       "   sa.qc.nTransversion  sa.qc.dpMean  sa.qc.dpStDev  sa.qc.gqMean  \\\n",
       "0                 1190      4.566828       2.343927     22.506570   \n",
       "1                 1251      9.440750       3.653101     42.334833   \n",
       "2                 1229      8.240004       3.720313     37.523761   \n",
       "3                 1238     12.756478       3.912233     52.740967   \n",
       "4                 1212      6.573118       2.887462     30.568286   \n",
       "\n",
       "   sa.qc.gqStDev  sa.qc.nNonRef  sa.qc.rTiTv  sa.qc.rHetHomVar  \\\n",
       "0      22.531111           4410     4.397479          1.190760   \n",
       "1      28.494689           4740     4.219824          1.648045   \n",
       "2      28.130359           4724     4.375102          1.510096   \n",
       "3      27.669909           4872     4.361874          1.758777   \n",
       "4      25.611360           4681     4.420792          1.478031   \n",
       "\n",
       "   sa.qc.rInsertionDeletion  \n",
       "0                      None  \n",
       "1                      None  \n",
       "2                      None  \n",
       "3                      None  \n",
       "4                      None  \n",
       "\n",
       "[5 rows x 26 columns]"
      ]
     },
     "execution_count": 26,
     "metadata": {},
     "output_type": "execute_result"
    }
   ],
   "source": [
    "df = vds.samples_table().to_pandas()\n",
    "df.head()"
   ]
  },
  {
   "cell_type": "markdown",
   "metadata": {},
   "source": [
    "Plotting the QC metrics is a good place to start."
   ]
  },
  {
   "cell_type": "code",
   "execution_count": 27,
   "metadata": {},
   "outputs": [
    {
     "data": {
      "image/png": "[encoded data removed]",
      "text/plain": [
       "<matplotlib.figure.Figure at 0x7f2cd852cb50>"
      ]
     },
     "metadata": {},
     "output_type": "display_data"
    }
   ],
   "source": [
    "plt.clf()\n",
    "plt.subplot(1, 2, 1)\n",
    "plt.hist(df[\"sa.qc.callRate\"], bins=np.arange(.75, 1.01, .01))\n",
    "plt.xlabel(\"Call Rate\")\n",
    "plt.ylabel(\"Frequency\")\n",
    "plt.xlim(.75, 1)\n",
    "\n",
    "plt.subplot(1, 2, 2)\n",
    "plt.hist(df[\"sa.qc.gqMean\"], bins = np.arange(0, 105, 5))\n",
    "plt.xlabel(\"Mean Sample GQ\")\n",
    "plt.ylabel(\"Frequency\")\n",
    "plt.xlim(0, 105)\n",
    "\n",
    "plt.tight_layout()\n",
    "plt.show()"
   ]
  },
  {
   "cell_type": "markdown",
   "metadata": {},
   "source": [
    "Often, these metrics are correlated."
   ]
  },
  {
   "cell_type": "code",
   "execution_count": 28,
   "metadata": {},
   "outputs": [
    {
     "data": {
      "image/png": "[encoded data removed]",
      "text/plain": [
       "<matplotlib.figure.Figure at 0x7f2cd84f9d50>"
      ]
     },
     "metadata": {},
     "output_type": "display_data"
    }
   ],
   "source": [
    "plt.scatter(df[\"sa.qc.dpMean\"], df[\"sa.qc.callRate\"],\n",
    "            alpha=0.1)\n",
    "plt.xlabel('Mean DP')\n",
    "plt.ylabel('Call Rate')\n",
    "plt.xlim(0, 20)\n",
    "plt.show()"
   ]
  },
  {
   "cell_type": "markdown",
   "metadata": {},
   "source": [
    "Removing outliers from the dataset will generally improve association results. We can draw lines on the above plot to indicate outlier cuts. We’ll want to remove all samples that fall in the bottom left quadrant."
   ]
  },
  {
   "cell_type": "code",
   "execution_count": 29,
   "metadata": {},
   "outputs": [
    {
     "data": {
      "image/png": "[encoded data removed]",
      "text/plain": [
       "<matplotlib.figure.Figure at 0x7f2cd8141990>"
      ]
     },
     "metadata": {},
     "output_type": "display_data"
    }
   ],
   "source": [
    "plt.scatter(df[\"sa.qc.dpMean\"], df[\"sa.qc.callRate\"],\n",
    "            alpha=0.1)\n",
    "plt.xlabel('Mean DP')\n",
    "plt.ylabel('Call Rate')\n",
    "plt.xlim(0, 20)\n",
    "plt.axhline(0.97, c='k')\n",
    "plt.axvline(4, c='k')\n",
    "plt.show()"
   ]
  },
  {
   "cell_type": "markdown",
   "metadata": {},
   "source": [
    "It’s easy to filter when we’ve got the cutoff values decided:"
   ]
  },
  {
   "cell_type": "code",
   "execution_count": 30,
   "metadata": {},
   "outputs": [
    {
     "name": "stdout",
     "output_type": "stream",
     "text": [
      "After filter, 843/1000 samples remain.\n"
     ]
    }
   ],
   "source": [
    "vds = vds.filter_samples_expr('sa.qc.dpMean >= 4 && sa.qc.callRate >= 0.97')\n",
    "print('After filter, %d/1000 samples remain.' % vds.num_samples)"
   ]
  },
  {
   "cell_type": "markdown",
   "metadata": {},
   "source": [
    "Next is genotype QC. To start, we’ll print the post-sample-QC call rate. It’s actually gone up since the initial summary - dropping low-quality samples disproportionally removed missing genotypes."
   ]
  },
  {
   "cell_type": "code",
   "execution_count": 31,
   "metadata": {},
   "outputs": [
    {
     "name": "stdout",
     "output_type": "stream",
     "text": [
      "pre QC call rate is 0.991\n"
     ]
    }
   ],
   "source": [
    "call_rate = vds.query_genotypes('gs.fraction(g => g.isCalled)')\n",
    "print('pre QC call rate is %.3f' % call_rate)"
   ]
  },
  {
   "cell_type": "markdown",
   "metadata": {},
   "source": [
    "It’s a good idea to filter out genotypes where the reads aren’t where they should be: if we find a genotype called homozygous reference with >10% alternate reads, a genotype called homozygous alternate with >10% reference reads, or a genotype called heterozygote without a ref / alt balance near 1:1, it is likely to be an error."
   ]
  },
  {
   "cell_type": "code",
   "execution_count": 32,
   "metadata": {
    "collapsed": true
   },
   "outputs": [],
   "source": [
    "filter_condition_ab = '''let ab = g.ad[1] / g.ad.sum() in\n",
    "                         ((g.isHomRef && ab <= 0.1) ||\n",
    "                          (g.isHet && ab >= 0.25 && ab <= 0.75) ||\n",
    "                          (g.isHomVar && ab >= 0.9))'''\n",
    "vds = vds.filter_genotypes(filter_condition_ab)"
   ]
  },
  {
   "cell_type": "code",
   "execution_count": 33,
   "metadata": {},
   "outputs": [
    {
     "name": "stdout",
     "output_type": "stream",
     "text": [
      "post QC call rate is 0.955\n"
     ]
    }
   ],
   "source": [
    "post_qc_call_rate = vds.query_genotypes('gs.fraction(g => g.isCalled)')\n",
    "print('post QC call rate is %.3f' % post_qc_call_rate)"
   ]
  },
  {
   "cell_type": "markdown",
   "metadata": {},
   "source": [
    "Variant QC is a bit more of the same: we can use the variant_qc method to produce a variety of useful statistics, plot them, and filter."
   ]
  },
  {
   "cell_type": "code",
   "execution_count": 34,
   "metadata": {},
   "outputs": [
    {
     "name": "stdout",
     "output_type": "stream",
     "text": [
      "Struct{\n",
      "     rsid: String,\n",
      "     qual: Double,\n",
      "     filters: Set[String],\n",
      "     pass: Boolean,\n",
      "     info: Struct{\n",
      "         AC: Array[Int],\n",
      "         AF: Array[Double],\n",
      "         AN: Int,\n",
      "         BaseQRankSum: Double,\n",
      "         ClippingRankSum: Double,\n",
      "         DP: Int,\n",
      "         DS: Boolean,\n",
      "         FS: Double,\n",
      "         HaplotypeScore: Double,\n",
      "         InbreedingCoeff: Double,\n",
      "         MLEAC: Array[Int],\n",
      "         MLEAF: Array[Double],\n",
      "         MQ: Double,\n",
      "         MQ0: Int,\n",
      "         MQRankSum: Double,\n",
      "         QD: Double,\n",
      "         ReadPosRankSum: Double,\n",
      "         set: String\n",
      "     }\n",
      " }\n"
     ]
    }
   ],
   "source": [
    "pprint(vds.variant_schema)"
   ]
  },
  {
   "cell_type": "markdown",
   "metadata": {},
   "source": [
    "The cache is used to optimize some of the downstream operations."
   ]
  },
  {
   "cell_type": "code",
   "execution_count": 35,
   "metadata": {
    "collapsed": true
   },
   "outputs": [],
   "source": [
    "vds = vds.variant_qc().cache()"
   ]
  },
  {
   "cell_type": "code",
   "execution_count": 36,
   "metadata": {},
   "outputs": [
    {
     "data": {
      "image/png": "[encoded data removed]",
      "text/plain": [
       "<matplotlib.figure.Figure at 0x7f2d100a3650>"
      ]
     },
     "metadata": {},
     "output_type": "display_data"
    }
   ],
   "source": [
    "variant_df = vds.variants_table().to_pandas()\n",
    "\n",
    "plt.clf()\n",
    "plt.subplot(2, 2, 1)\n",
    "variantgq_means = variant_df[\"va.qc.gqMean\"]\n",
    "plt.hist(variantgq_means, bins = np.arange(0, 84, 2))\n",
    "plt.xlabel(\"Variant Mean GQ\")\n",
    "plt.ylabel(\"Frequency\")\n",
    "plt.xlim(0, 80)\n",
    "\n",
    "plt.subplot(2, 2, 2)\n",
    "variant_mleaf = variant_df[\"va.qc.AF\"]\n",
    "plt.hist(variant_mleaf, bins = np.arange(0, 1.05, .025))\n",
    "plt.xlabel(\"Minor Allele Frequency\")\n",
    "plt.ylabel(\"Frequency\")\n",
    "plt.xlim(0, 1)\n",
    "\n",
    "plt.subplot(2, 2, 3)\n",
    "plt.hist(variant_df['va.qc.callRate'], bins = np.arange(0, 1.05, .01))\n",
    "plt.xlabel(\"Variant Call Rate\")\n",
    "plt.ylabel(\"Frequency\")\n",
    "plt.xlim(.5, 1)\n",
    "\n",
    "plt.subplot(2, 2, 4)\n",
    "plt.hist(variant_df['va.qc.pHWE'], bins = np.arange(0, 1.05, .025))\n",
    "plt.xlabel(\"Hardy-Weinberg Equilibrium p-value\")\n",
    "plt.ylabel(\"Frequency\")\n",
    "plt.xlim(0, 1)\n",
    "\n",
    "plt.tight_layout()\n",
    "plt.show()"
   ]
  },
  {
   "cell_type": "markdown",
   "metadata": {},
   "source": [
    "These statistics actually look pretty good: we don’t need to filter this dataset. Most datasets require thoughtful quality control, though. The filter_variants_expr method can help!"
   ]
  },
  {
   "cell_type": "markdown",
   "metadata": {},
   "source": [
    "Next, let's take a look at how we would perform ibd pruning so that no two samples have a PI_HAT greater than 0.5"
   ]
  },
  {
   "cell_type": "code",
   "execution_count": 37,
   "metadata": {},
   "outputs": [
    {
     "name": "stderr",
     "output_type": "stream",
     "text": [
      "2018-03-14 15:17:46 Hail: INFO: Performing IBD Prune\n",
      "2018-03-14 15:18:01 Hail: INFO: Pruning Complete\n"
     ]
    },
    {
     "data": {
      "text/plain": [
       "843"
      ]
     },
     "execution_count": 37,
     "metadata": {},
     "output_type": "execute_result"
    }
   ],
   "source": [
    "pruned_vds = vds.ibd_prune(0.5)\n",
    "vds.num_samples"
   ]
  },
  {
   "cell_type": "code",
   "execution_count": 38,
   "metadata": {},
   "outputs": [
    {
     "data": {
      "text/plain": [
       "839"
      ]
     },
     "execution_count": 38,
     "metadata": {},
     "output_type": "execute_result"
    }
   ],
   "source": [
    "pruned_vds.num_samples"
   ]
  },
  {
   "cell_type": "markdown",
   "metadata": {},
   "source": [
    "As well, we can take a peek at the original VDS's full IBD matirx. Minor allele frequencies are computed from the vds itself."
   ]
  },
  {
   "cell_type": "code",
   "execution_count": 39,
   "metadata": {},
   "outputs": [
    {
     "name": "stdout",
     "output_type": "stream",
     "text": [
      "+---------+---------+-------------+-------------+-------------+-------------+------+------+------+\n",
      "| i       | j       |      ibd.Z0 |      ibd.Z1 |      ibd.Z2 |  ibd.PI_HAT | ibs0 | ibs1 | ibs2 |\n",
      "+---------+---------+-------------+-------------+-------------+-------------+------+------+------+\n",
      "| String  | String  |      Double |      Double |      Double |      Double | Long | Long | Long |\n",
      "+---------+---------+-------------+-------------+-------------+-------------+------+------+------+\n",
      "| HG00096 | HG00097 | 1.00000e+00 | 0.00000e+00 | 0.00000e+00 | 0.00000e+00 |  820 | 2997 | 6121 |\n",
      "| HG00096 | HG00099 | 1.00000e+00 | 0.00000e+00 | 0.00000e+00 | 0.00000e+00 |  809 | 2871 | 6166 |\n",
      "| HG00096 | HG00100 | 1.00000e+00 | 0.00000e+00 | 0.00000e+00 | 0.00000e+00 |  740 | 3106 | 6234 |\n",
      "| HG00096 | HG00101 | 1.00000e+00 | 0.00000e+00 | 0.00000e+00 | 0.00000e+00 |  897 | 2810 | 6165 |\n",
      "| HG00096 | HG00102 | 1.00000e+00 | 0.00000e+00 | 0.00000e+00 | 0.00000e+00 |  855 | 2839 | 6221 |\n",
      "| HG00096 | HG00103 | 1.00000e+00 | 0.00000e+00 | 0.00000e+00 | 0.00000e+00 | 1018 | 2648 | 6117 |\n",
      "| HG00096 | HG00105 | 1.00000e+00 | 0.00000e+00 | 0.00000e+00 | 0.00000e+00 |  871 | 2861 | 6173 |\n",
      "| HG00096 | HG00106 | 1.00000e+00 | 0.00000e+00 | 0.00000e+00 | 0.00000e+00 |  813 | 2901 | 6206 |\n",
      "| HG00096 | HG00107 | 1.00000e+00 | 0.00000e+00 | 0.00000e+00 | 0.00000e+00 |  816 | 2857 | 6267 |\n",
      "| HG00096 | HG00108 | 1.00000e+00 | 0.00000e+00 | 0.00000e+00 | 0.00000e+00 |  923 | 2693 | 6180 |\n",
      "+---------+---------+-------------+-------------+-------------+-------------+------+------+------+\n",
      "showing top 10 rows\n",
      "\n"
     ]
    }
   ],
   "source": [
    "vds.ibd().show()"
   ]
  },
  {
   "cell_type": "markdown",
   "metadata": {},
   "source": [
    "## Let's do a GWAS!"
   ]
  },
  {
   "cell_type": "markdown",
   "metadata": {},
   "source": [
    "First, we need to restrict to variants that are :\n",
    "\n",
    "* common (we’ll use a cutoff of 1%)\n",
    "* uncorrelated (not in linkage disequilibrium)\n",
    "\n",
    "Both of these are easy in Hail."
   ]
  },
  {
   "cell_type": "code",
   "execution_count": 40,
   "metadata": {},
   "outputs": [
    {
     "name": "stderr",
     "output_type": "stream",
     "text": [
      "2018-03-14 15:18:59 Hail: INFO: Running LD prune with nSamples=843, nVariants=9085, nPartitions=4, and maxQueueSize=257123.\n",
      "2018-03-14 15:19:00 Hail: INFO: LD prune step 1 of 3: nVariantsKept=8478, nPartitions=4, time=817.854ms\n",
      "2018-03-14 15:19:05 Hail: INFO: LD prune step 2 of 3: nVariantsKept=8478, nPartitions=12, time=5.630s\n",
      "2018-03-14 15:19:06 Hail: INFO: Coerced sorted dataset\n",
      "2018-03-14 15:19:06 Hail: INFO: LD prune step 3 of 3: nVariantsKept=8478, time=731.032ms\n"
     ]
    }
   ],
   "source": [
    "common_vds = (vds\n",
    "              .filter_variants_expr('va.qc.AF > 0.01')\n",
    "              .ld_prune(memory_per_core=256, num_cores=4))"
   ]
  },
  {
   "cell_type": "code",
   "execution_count": 41,
   "metadata": {},
   "outputs": [
    {
     "data": {
      "text/plain": [
       "(843L, 8555L)"
      ]
     },
     "execution_count": 41,
     "metadata": {},
     "output_type": "execute_result"
    }
   ],
   "source": [
    "common_vds.count()"
   ]
  },
  {
   "cell_type": "markdown",
   "metadata": {},
   "source": [
    "These filters removed about 15% of sites (we started with a bit over 10,000). This is NOT representative of most sequencing datasets! We have already downsampled the full thousand genomes dataset to include more common variants than we’d expect by chance.\n",
    "\n",
    "In Hail, the association tests accept sample annotations for the sample phenotype and covariates. Since we’ve already got our phenotype of interest (caffeine consumption) in the dataset, we are good to go:"
   ]
  },
  {
   "cell_type": "code",
   "execution_count": 42,
   "metadata": {},
   "outputs": [
    {
     "name": "stderr",
     "output_type": "stream",
     "text": [
      "2018-03-14 15:22:15 Hail: INFO: Running linear regression on 843 samples with 1 covariate including intercept...\n"
     ]
    },
    {
     "name": "stdout",
     "output_type": "stream",
     "text": [
      "Struct{\n",
      "     rsid: String,\n",
      "     qual: Double,\n",
      "     filters: Set[String],\n",
      "     pass: Boolean,\n",
      "     info: Struct{\n",
      "         AC: Array[Int],\n",
      "         AF: Array[Double],\n",
      "         AN: Int,\n",
      "         BaseQRankSum: Double,\n",
      "         ClippingRankSum: Double,\n",
      "         DP: Int,\n",
      "         DS: Boolean,\n",
      "         FS: Double,\n",
      "         HaplotypeScore: Double,\n",
      "         InbreedingCoeff: Double,\n",
      "         MLEAC: Array[Int],\n",
      "         MLEAF: Array[Double],\n",
      "         MQ: Double,\n",
      "         MQ0: Int,\n",
      "         MQRankSum: Double,\n",
      "         QD: Double,\n",
      "         ReadPosRankSum: Double,\n",
      "         set: String\n",
      "     },\n",
      "     qc: Struct{\n",
      "         callRate: Double,\n",
      "         AC: Int,\n",
      "         AF: Double,\n",
      "         nCalled: Int,\n",
      "         nNotCalled: Int,\n",
      "         nHomRef: Int,\n",
      "         nHet: Int,\n",
      "         nHomVar: Int,\n",
      "         dpMean: Double,\n",
      "         dpStDev: Double,\n",
      "         gqMean: Double,\n",
      "         gqStDev: Double,\n",
      "         nNonRef: Int,\n",
      "         rHeterozygosity: Double,\n",
      "         rHetHomVar: Double,\n",
      "         rExpectedHetFrequency: Double,\n",
      "         pHWE: Double\n",
      "     },\n",
      "     linreg: Struct{\n",
      "         beta: Double,\n",
      "         se: Double,\n",
      "         tstat: Double,\n",
      "         pval: Double\n",
      "     }\n",
      " }\n"
     ]
    }
   ],
   "source": [
    "gwas = common_vds.linreg('sa.CaffeineConsumption')\n",
    "pprint(gwas.variant_schema)"
   ]
  },
  {
   "cell_type": "markdown",
   "metadata": {},
   "source": [
    "Looking at the bottom of the above printout, you can see the linear regression adds new variant annotations for the beta, standard error, t-statistic, and p-value."
   ]
  },
  {
   "cell_type": "code",
   "execution_count": 43,
   "metadata": {
    "collapsed": true
   },
   "outputs": [],
   "source": [
    "def qqplot(pvals, xMax, yMax):\n",
    "    spvals = sorted(filter(lambda x: x and not(isnan(x)), pvals))\n",
    "    exp = [-log(float(i) / len(spvals), 10) for i in np.arange(1, len(spvals) + 1, 1)]\n",
    "    obs = [-log(p, 10) for p in spvals]\n",
    "    plt.clf()\n",
    "    plt.scatter(exp, obs)\n",
    "    plt.plot(np.arange(0, max(xMax, yMax)), c=\"red\")\n",
    "    plt.xlabel(\"Expected p-value (-log10 scale)\")\n",
    "    plt.ylabel(\"Observed p-value (-log10 scale)\")\n",
    "    plt.xlim(0, xMax)\n",
    "    plt.ylim(0, yMax)\n",
    "    plt.show()"
   ]
  },
  {
   "cell_type": "markdown",
   "metadata": {},
   "source": [
    "Python makes it easy to make a Q-Q (quantile-quantile) plot."
   ]
  },
  {
   "cell_type": "code",
   "execution_count": 44,
   "metadata": {},
   "outputs": [
    {
     "data": {
      "image/png": "[encoded data removed]",
      "text/plain": [
       "<matplotlib.figure.Figure at 0x7f2cc8c62290>"
      ]
     },
     "metadata": {},
     "output_type": "display_data"
    }
   ],
   "source": [
    "qqplot(gwas.query_variants('variants.map(v => va.linreg.pval).collect()'),\n",
    "       5, 6)"
   ]
  },
  {
   "cell_type": "markdown",
   "metadata": {},
   "source": [
    "## Confounded\n",
    "\n",
    "The observed p-values drift away from the expectation immediately. Either every SNP in our dataset is causally linked to caffeine consumption (unlikely), or there’s a confounder.\n",
    "\n",
    "We didn’t tell you, but sample ancestry was actually used to simulate this phenotype. This leads to a stratified distribution of the phenotype. The solution is to include ancestry as a covariate in our regression.\n",
    "\n",
    "The linreg method can also take sample annotations to use as covariates. We already annotated our samples with reported ancestry, but it is good to be skeptical of these labels due to human error. Genomes don’t have that problem! Instead of using reported ancestry, we will use genetic ancestry by including computed principal components in our model.\n",
    "\n",
    "The pca method produces sample PCs in sample annotations, and can also produce variant loadings and global eigenvalues when asked."
   ]
  },
  {
   "cell_type": "code",
   "execution_count": 45,
   "metadata": {},
   "outputs": [
    {
     "name": "stderr",
     "output_type": "stream",
     "text": [
      "2018-03-14 15:37:12 Hail: INFO: Running PCA with 5 components...\n"
     ]
    }
   ],
   "source": [
    "pca = common_vds.pca('sa.pca', k=5, eigenvalues='global.eigen')"
   ]
  },
  {
   "cell_type": "code",
   "execution_count": 46,
   "metadata": {},
   "outputs": [
    {
     "name": "stdout",
     "output_type": "stream",
     "text": [
      "{u'eigen': {u'PC1': 56.347079054818046,\n",
      "            u'PC2': 37.81090030103984,\n",
      "            u'PC3': 16.919743018222366,\n",
      "            u'PC4': 2.707349935634388,\n",
      "            u'PC5': 2.0851252187821174}}\n"
     ]
    }
   ],
   "source": [
    "pprint(pca.globals)"
   ]
  },
  {
   "cell_type": "code",
   "execution_count": 47,
   "metadata": {},
   "outputs": [
    {
     "name": "stdout",
     "output_type": "stream",
     "text": [
      "Struct{\n",
      "     Population: String,\n",
      "     SuperPopulation: String,\n",
      "     isFemale: Boolean,\n",
      "     PurpleHair: Boolean,\n",
      "     CaffeineConsumption: Int,\n",
      "     qc: Struct{\n",
      "         callRate: Double,\n",
      "         nCalled: Int,\n",
      "         nNotCalled: Int,\n",
      "         nHomRef: Int,\n",
      "         nHet: Int,\n",
      "         nHomVar: Int,\n",
      "         nSNP: Int,\n",
      "         nInsertion: Int,\n",
      "         nDeletion: Int,\n",
      "         nSingleton: Int,\n",
      "         nTransition: Int,\n",
      "         nTransversion: Int,\n",
      "         dpMean: Double,\n",
      "         dpStDev: Double,\n",
      "         gqMean: Double,\n",
      "         gqStDev: Double,\n",
      "         nNonRef: Int,\n",
      "         rTiTv: Double,\n",
      "         rHetHomVar: Double,\n",
      "         rInsertionDeletion: Double\n",
      "     },\n",
      "     pca: Struct{\n",
      "         PC1: Double,\n",
      "         PC2: Double,\n",
      "         PC3: Double,\n",
      "         PC4: Double,\n",
      "         PC5: Double\n",
      "     }\n",
      " }\n"
     ]
    }
   ],
   "source": [
    "pprint(pca.sample_schema)"
   ]
  },
  {
   "cell_type": "markdown",
   "metadata": {},
   "source": [
    "Now that we’ve got principal components per sample, we may as well plot them! Human history exerts a strong effect in genetic datasets. Even with a 50MB sequencing dataset, we can recover the major human populations."
   ]
  },
  {
   "cell_type": "code",
   "execution_count": 48,
   "metadata": {},
   "outputs": [
    {
     "data": {
      "image/png": "[encoded data removed]",
      "text/plain": [
       "<matplotlib.figure.Figure at 0x7f2cc8230650>"
      ]
     },
     "metadata": {},
     "output_type": "display_data"
    }
   ],
   "source": [
    "pca_table = pca.samples_table().to_pandas()\n",
    "colors = {'AFR': 'green', 'AMR': 'red', 'EAS': 'black', 'EUR': 'blue', 'SAS': 'cyan'}\n",
    "plt.scatter(pca_table[\"sa.pca.PC1\"], pca_table[\"sa.pca.PC2\"],\n",
    "            c = pca_table[\"sa.SuperPopulation\"].map(colors),\n",
    "            alpha = .5)\n",
    "plt.xlim(-0.6, 0.6)\n",
    "plt.xlabel(\"PC1\")\n",
    "plt.ylabel(\"PC2\")\n",
    "legend_entries = [mpatches.Patch(color=c, label=pheno) for pheno, c in colors.items()]\n",
    "plt.legend(handles=legend_entries, loc=2)\n",
    "plt.show()"
   ]
  },
  {
   "cell_type": "markdown",
   "metadata": {},
   "source": [
    "Now we can rerun our linear regression, controlling for the first few principal components and sample sex."
   ]
  },
  {
   "cell_type": "code",
   "execution_count": 49,
   "metadata": {},
   "outputs": [
    {
     "name": "stderr",
     "output_type": "stream",
     "text": [
      "2018-03-14 15:41:17 Hail: INFO: Running linear regression on 843 samples with 5 covariates including intercept...\n"
     ]
    }
   ],
   "source": [
    "pvals = (common_vds\n",
    "        .annotate_samples_table(pca.samples_table(), expr='sa.pca = table.pca')\n",
    "        .linreg('sa.CaffeineConsumption', covariates=['sa.pca.PC1', 'sa.pca.PC2', 'sa.pca.PC3', 'sa.isFemale'])\n",
    "        .query_variants('variants.map(v => va.linreg.pval).collect()'))"
   ]
  },
  {
   "cell_type": "code",
   "execution_count": 50,
   "metadata": {},
   "outputs": [
    {
     "data": {
      "image/png": "[encoded data removed]",
      "text/plain": [
       "<matplotlib.figure.Figure at 0x7f2cc8dd9c10>"
      ]
     },
     "metadata": {},
     "output_type": "display_data"
    }
   ],
   "source": [
    "qqplot(pvals, 5, 6)"
   ]
  },
  {
   "cell_type": "code",
   "execution_count": 51,
   "metadata": {},
   "outputs": [
    {
     "name": "stderr",
     "output_type": "stream",
     "text": [
      "2018-03-14 15:41:37 Hail: INFO: Running linear regression on 843 samples with 5 covariates including intercept...\n"
     ]
    }
   ],
   "source": [
    "pvals = (common_vds\n",
    "        .annotate_samples_table(pca.samples_table(), expr='sa.pca = table.pca')\n",
    "        .linreg('sa.CaffeineConsumption',\n",
    "                covariates=['sa.pca.PC1', 'sa.pca.PC2', 'sa.pca.PC3', 'sa.isFemale'],\n",
    "                use_dosages=True)\n",
    "        .query_variants('variants.map(v => va.linreg.pval).collect()'))"
   ]
  },
  {
   "cell_type": "code",
   "execution_count": 52,
   "metadata": {},
   "outputs": [
    {
     "data": {
      "image/png": "[encoded data removed]",
      "text/plain": [
       "<matplotlib.figure.Figure at 0x7f2cc85343d0>"
      ]
     },
     "metadata": {},
     "output_type": "display_data"
    }
   ],
   "source": [
    "qqplot(pvals, 5, 6)"
   ]
  },
  {
   "cell_type": "markdown",
   "metadata": {},
   "source": [
    "That’s more like it! We may not be publishing ten new coffee-drinking loci in Nature, but we shouldn’t expect to find anything but the strongest signals from a dataset of 1000 individuals anyway.\n",
    "\n",
    "## Rare Variant Analysis\n",
    "\n",
    "Hail doesn’t yet have rare variant kernel-based methods, but we have linear and logistic burden tests.\n",
    "\n",
    "We won’t be showing those here, though. Instead, we’ll demonstrate how one can use the expression language to group and count by any arbitrary properties in variant or sample annotations."
   ]
  },
  {
   "cell_type": "code",
   "execution_count": 53,
   "metadata": {
    "collapsed": true
   },
   "outputs": [],
   "source": [
    "kt = (vds.genotypes_table()\n",
    "         .aggregate_by_key(key_expr=['pop = sa.SuperPopulation', 'chromosome = v.contig'],\n",
    "                           agg_expr=['n_het = g.filter(g => g.isHet()).count()']))"
   ]
  },
  {
   "cell_type": "code",
   "execution_count": 54,
   "metadata": {},
   "outputs": [
    {
     "name": "stdout",
     "output_type": "stream",
     "text": [
      "+---+----------+-----+\n",
      "|pop|chromosome|n_het|\n",
      "+---+----------+-----+\n",
      "|EUR|        14|16380|\n",
      "|SAS|        17|  511|\n",
      "|EUR|         5|30717|\n",
      "|AFR|         7|11889|\n",
      "|EAS|         9|23951|\n",
      "|AFR|        21| 3529|\n",
      "|EAS|         X| 7403|\n",
      "|EAS|         1|49375|\n",
      "|EUR|        19|13483|\n",
      "|AMR|        15|18935|\n",
      "|AMR|         7|31527|\n",
      "|EUR|        13|17321|\n",
      "|EUR|        12|26134|\n",
      "|EUR|        15|15807|\n",
      "|EUR|         6|33910|\n",
      "|EAS|        20|17466|\n",
      "|SAS|        11|  901|\n",
      "|AFR|         3|15829|\n",
      "|EAS|         2|45384|\n",
      "|AMR|        18|18982|\n",
      "+---+----------+-----+\n",
      "only showing top 20 rows\n",
      "\n"
     ]
    }
   ],
   "source": [
    "kt.to_dataframe().show()"
   ]
  },
  {
   "cell_type": "markdown",
   "metadata": {},
   "source": [
    "What if we want to group by minor allele frequency bin and hair color, and calculate the mean GQ?"
   ]
  },
  {
   "cell_type": "code",
   "execution_count": 55,
   "metadata": {
    "collapsed": true
   },
   "outputs": [],
   "source": [
    "kt2 = (vds.genotypes_table()\n",
    "          .aggregate_by_key(key_expr=['''maf_bin = if (va.qc.AF < 0.01) \"< 1%\"\n",
    "                                                   else if (va.qc.AF < 0.05) \"1%-5%\"\n",
    "                                                   else \"> 5%\" ''',\n",
    "                                     'purple_hair = sa.PurpleHair'],\n",
    "                           agg_expr=['mean_gq = g.map(g => g.gq).stats().mean',\n",
    "                                     'mean_dp = g.map(g => g.dp).stats().mean']))"
   ]
  },
  {
   "cell_type": "code",
   "execution_count": 56,
   "metadata": {},
   "outputs": [
    {
     "name": "stdout",
     "output_type": "stream",
     "text": [
      "+-------+-----------+------------------+-----------------+\n",
      "|maf_bin|purple_hair|           mean_gq|          mean_dp|\n",
      "+-------+-----------+------------------+-----------------+\n",
      "|   > 5%|       true| 36.09305651197578|7.407450459057423|\n",
      "|   < 1%|       true| 22.68197887434976|7.374254453728496|\n",
      "|   < 1%|      false|22.986128698357074|7.492131714314245|\n",
      "|   > 5%|      false|36.341259980753755|7.533399982371768|\n",
      "|  1%-5%|       true|24.093123033233528|7.269552536649012|\n",
      "|  1%-5%|      false|  24.3519587208908|7.405582424428774|\n",
      "+-------+-----------+------------------+-----------------+\n",
      "\n"
     ]
    }
   ],
   "source": [
    "kt2.to_dataframe().show()"
   ]
  },
  {
   "cell_type": "markdown",
   "metadata": {},
   "source": [
    "## Moving to the Spark Ecosystem"
   ]
  },
  {
   "cell_type": "markdown",
   "metadata": {},
   "source": [
    "In this section, we'll investigate how to leverage Spark's native machine learning libraries to glean insights from our genomic data. In particular, K-Means clustering will be applied to each sample's principal components and the resulting classifications will be compared to their initial Super Population labeling.\n",
    "Hail's API supports exporting objects to the standard Spark ecosystem. The below snippet places our PCA data, sample data, and super population data in a DataFrame."
   ]
  },
  {
   "cell_type": "code",
   "execution_count": 57,
   "metadata": {},
   "outputs": [
    {
     "name": "stdout",
     "output_type": "stream",
     "text": [
      "+-------+--------------------+--------------------+--------------------+--------------------+--------------------+--------+\n",
      "| sample|                 pc1|                 pc2|                 pc3|                 pc4|                 pc5|superPop|\n",
      "+-------+--------------------+--------------------+--------------------+--------------------+--------------------+--------+\n",
      "|HG00096|-0.18449811998728666| -0.1991977960036995|-0.10619166512816464|0.042799728960542405|0.004170880923728739|     EUR|\n",
      "|HG00097|-0.20566437214655933|-0.20841450360202568| -0.0979352503764172|0.031995099073471686|0.019512845161790162|     EUR|\n",
      "|HG00099| -0.1992552644588669| -0.2120086572248574|-0.06775962015804171| 0.05130532285135666|-0.04399484203065...|     EUR|\n",
      "|HG00100|-0.19499615680388113|-0.21665024375777364| -0.0932906872755904| 0.03684689927183943| -0.0080141158638381|     EUR|\n",
      "|HG00101|-0.18837553839364624|-0.20740016680507975|-0.10426734071602275| 0.04083479082535991|0.014093776672489698|     EUR|\n",
      "|HG00102|-0.20447829067056175|-0.21227187530804523|-0.06854945083821988|0.008230953709467238|-0.03186386559349...|     EUR|\n",
      "|HG00103|-0.20145249473561636|-0.22198043909471227|-0.09974735291835894|0.052443017013252276|-0.03677118014681...|     EUR|\n",
      "|HG00105| -0.1865914330153781| -0.2082747945950462|-0.08383644098657696|0.018767920734072303|-0.02477926504028719|     EUR|\n",
      "|HG00106| -0.1888028471175582|-0.21016947877346956|-0.10307741818141158| 0.03407116887618019|-0.03164763912685247|     EUR|\n",
      "|HG00107|-0.20207213254771875|-0.22471452310511725| -0.0931232103083293| 0.05473539218368641|-0.00839599023957...|     EUR|\n",
      "|HG00108|-0.19172250393849036|-0.21139552576569995|-0.09654004758546474| 0.03342852862541965| 0.05674876861458163|     EUR|\n",
      "|HG00109|-0.19450320946089697|-0.21328160848781275|-0.09546401944735514|0.052285021202041856|0.004391450743758324|     EUR|\n",
      "|HG00110|-0.18829634774368137|-0.22240925111038176| -0.0962420843997821| 0.05220537327393619|-0.04481807966024793|     EUR|\n",
      "|HG00111| -0.1859643880598013|  -0.197919108138918|-0.08698400357761454| 0.07395515203622315|-0.05758285636894862|     EUR|\n",
      "|HG00113|-0.20638716739252155|-0.20684676203342495|-0.08362172343546555| 0.05865089923102484|7.182292204439998E-4|     EUR|\n",
      "|HG00115|-0.19768130989291244|-0.21369402833511397|-0.08555585587705218| 0.03798966497082149|-0.04427177178043776|     EUR|\n",
      "|HG00116|-0.19831362329988841| -0.2097010991949831|   -0.08499543242455|0.042495529188547494|-0.06558173341889435|     EUR|\n",
      "|HG00117|-0.18289549352695605|-0.19377099543799184|-0.09872406427055128| 0.08580959584489126|  0.0136518198238201|     EUR|\n",
      "|HG00118|-0.19518974220208507|-0.22666282948815142|-0.10053954722666943|0.021703772521096013|0.006858060257756...|     EUR|\n",
      "|HG00119|-0.18315367642477903|-0.21464003647150628|-0.07596085292212477|0.058119330359920056|  -0.077119302859225|     EUR|\n",
      "+-------+--------------------+--------------------+--------------------+--------------------+--------------------+--------+\n",
      "only showing top 20 rows\n",
      "\n"
     ]
    }
   ],
   "source": [
    "df = pca.samples_table().to_dataframe().select(\n",
    "  's', '`sa.pca.PC1`', '`sa.pca.PC2`', '`sa.pca.PC3`', '`sa.pca.PC4`', '`sa.pca.PC5`', '`sa.SuperPopulation`').toDF('sample', 'pc1', 'pc2', 'pc3', 'pc4', 'pc5', 'superPop')\n",
    "df.show()"
   ]
  },
  {
   "cell_type": "markdown",
   "metadata": {},
   "source": [
    "Next, we'll leverage Spark's ML documentation to build a Machine Learning pipeline that creates feature vectors from the Principal Components and performs K-Means clustering on the resulting vectors.\n",
    "Please reference the below documentation on pipelines to see how to assemble the ML pipeline. https://spark.apache.org/docs/latest/ml-pipeline.html"
   ]
  },
  {
   "cell_type": "code",
   "execution_count": 58,
   "metadata": {
    "collapsed": true
   },
   "outputs": [],
   "source": [
    "from pyspark.ml import Pipeline\n",
    "from pyspark.ml.feature import VectorAssembler\n",
    "from pyspark.ml.clustering import KMeans\n",
    "\n",
    "va = VectorAssembler(inputCols=['pc1', 'pc2', 'pc3', 'pc4', 'pc5'],\n",
    "                     outputCol='features')\n",
    "kmeans = KMeans(k=5, featuresCol=va.getOutputCol(), predictionCol='prediction')\n",
    "pipeline = Pipeline(stages=[va, kmeans]) "
   ]
  },
  {
   "cell_type": "markdown",
   "metadata": {},
   "source": [
    "Next, we'll fit our DataFrame to the pipline and subsequently generate the K-Means predictions. The rest of the snippet simply converts the resulting Spark DataFrame into a Pandas DataFrame for later visualization."
   ]
  },
  {
   "cell_type": "code",
   "execution_count": 59,
   "metadata": {},
   "outputs": [
    {
     "data": {
      "text/html": [
       "<div>\n",
       "<style>\n",
       "    .dataframe thead tr:only-child th {\n",
       "        text-align: right;\n",
       "    }\n",
       "\n",
       "    .dataframe thead th {\n",
       "        text-align: left;\n",
       "    }\n",
       "\n",
       "    .dataframe tbody tr th {\n",
       "        vertical-align: top;\n",
       "    }\n",
       "</style>\n",
       "<table border=\"1\" class=\"dataframe\">\n",
       "  <thead>\n",
       "    <tr style=\"text-align: right;\">\n",
       "      <th></th>\n",
       "      <th>sample</th>\n",
       "      <th>superPop</th>\n",
       "      <th>prediction</th>\n",
       "      <th>index</th>\n",
       "      <th>superPopCode</th>\n",
       "    </tr>\n",
       "  </thead>\n",
       "  <tbody>\n",
       "    <tr>\n",
       "      <th>0</th>\n",
       "      <td>HG00096</td>\n",
       "      <td>EUR</td>\n",
       "      <td>2</td>\n",
       "      <td>0</td>\n",
       "      <td>3</td>\n",
       "    </tr>\n",
       "    <tr>\n",
       "      <th>1</th>\n",
       "      <td>HG00097</td>\n",
       "      <td>EUR</td>\n",
       "      <td>2</td>\n",
       "      <td>1</td>\n",
       "      <td>3</td>\n",
       "    </tr>\n",
       "    <tr>\n",
       "      <th>2</th>\n",
       "      <td>HG00099</td>\n",
       "      <td>EUR</td>\n",
       "      <td>2</td>\n",
       "      <td>2</td>\n",
       "      <td>3</td>\n",
       "    </tr>\n",
       "    <tr>\n",
       "      <th>3</th>\n",
       "      <td>HG00100</td>\n",
       "      <td>EUR</td>\n",
       "      <td>2</td>\n",
       "      <td>3</td>\n",
       "      <td>3</td>\n",
       "    </tr>\n",
       "    <tr>\n",
       "      <th>4</th>\n",
       "      <td>HG00101</td>\n",
       "      <td>EUR</td>\n",
       "      <td>2</td>\n",
       "      <td>4</td>\n",
       "      <td>3</td>\n",
       "    </tr>\n",
       "  </tbody>\n",
       "</table>\n",
       "</div>"
      ],
      "text/plain": [
       "    sample superPop  prediction  index  superPopCode\n",
       "0  HG00096      EUR           2      0             3\n",
       "1  HG00097      EUR           2      1             3\n",
       "2  HG00099      EUR           2      2             3\n",
       "3  HG00100      EUR           2      3             3\n",
       "4  HG00101      EUR           2      4             3"
      ]
     },
     "execution_count": 59,
     "metadata": {},
     "output_type": "execute_result"
    }
   ],
   "source": [
    "model = pipeline.fit(df) # Fill in with the code to fit the DataFrame to the\n",
    "                         # pipeline.\n",
    "result_df = model.transform(df) # Fill in with the code to \n",
    "                                # generate the predictions.\n",
    "pdf = result_df.select('sample', 'superPop', 'prediction').toPandas()\n",
    "pdf['index'] = pdf.index\n",
    "pdf.superPop = pd.Categorical(pdf.superPop)\n",
    "pdf['superPopCode'] = pdf.superPop.cat.codes\n",
    "pdf.head()"
   ]
  },
  {
   "cell_type": "markdown",
   "metadata": {},
   "source": [
    "\n",
    "Finally, run the below cell to generate a force graph which will display how the K-Means predictions and correlations are related. Copy the generated HTML link and paste it into your browser to view the force graph."
   ]
  },
  {
   "cell_type": "code",
   "execution_count": 70,
   "metadata": {},
   "outputs": [
    {
     "name": "stdout",
     "output_type": "stream",
     "text": [
      "Lightning initialized\n",
      "Problem connecting to server at http://public.lightning-viz.org\n",
      "status code: 404\n"
     ]
    },
    {
     "ename": "ValueError",
     "evalue": "Could not access server",
     "output_type": "error",
     "traceback": [
      "\u001b[0;31m---------------------------------------------------------------------------\u001b[0m",
      "\u001b[0;31mValueError\u001b[0m                                Traceback (most recent call last)",
      "\u001b[0;32m<ipython-input-70-812687b1b28e>\u001b[0m in \u001b[0;36m<module>\u001b[0;34m()\u001b[0m\n\u001b[1;32m     24\u001b[0m \u001b[0;34m\u001b[0m\u001b[0m\n\u001b[1;32m     25\u001b[0m \u001b[0;32mfrom\u001b[0m \u001b[0mlightning\u001b[0m \u001b[0;32mimport\u001b[0m \u001b[0mLightning\u001b[0m\u001b[0;34m\u001b[0m\u001b[0m\n\u001b[0;32m---> 26\u001b[0;31m \u001b[0mlgn\u001b[0m \u001b[0;34m=\u001b[0m \u001b[0mLightning\u001b[0m\u001b[0;34m(\u001b[0m\u001b[0mhost\u001b[0m\u001b[0;34m=\u001b[0m\u001b[0;34m'http://public.lightning-viz.org'\u001b[0m\u001b[0;34m)\u001b[0m\u001b[0;34m\u001b[0m\u001b[0m\n\u001b[0m\u001b[1;32m     27\u001b[0m \u001b[0mlgn\u001b[0m\u001b[0;34m.\u001b[0m\u001b[0mcreate_session\u001b[0m\u001b[0;34m(\u001b[0m\u001b[0;34m'new'\u001b[0m\u001b[0;34m)\u001b[0m\u001b[0;34m\u001b[0m\u001b[0m\n\u001b[1;32m     28\u001b[0m \u001b[0mviz\u001b[0m \u001b[0;34m=\u001b[0m \u001b[0mlgn\u001b[0m\u001b[0;34m.\u001b[0m\u001b[0mforce\u001b[0m\u001b[0;34m(\u001b[0m\u001b[0mpredictions\u001b[0m\u001b[0;34m,\u001b[0m \u001b[0mgroup\u001b[0m\u001b[0;34m=\u001b[0m\u001b[0mgroups\u001b[0m\u001b[0;34m,\u001b[0m \u001b[0mlabels\u001b[0m\u001b[0;34m=\u001b[0m\u001b[0mlabels\u001b[0m\u001b[0;34m)\u001b[0m\u001b[0;34m\u001b[0m\u001b[0m\n",
      "\u001b[0;32m/home/mike/anaconda2/lib/python2.7/site-packages/lightning/main.pyc\u001b[0m in \u001b[0;36m__init__\u001b[0;34m(self, host, local, ipython, auth, size)\u001b[0m\n\u001b[1;32m     26\u001b[0m             \u001b[0mstatus\u001b[0m \u001b[0;34m=\u001b[0m \u001b[0mself\u001b[0m\u001b[0;34m.\u001b[0m\u001b[0mcheck_status\u001b[0m\u001b[0;34m(\u001b[0m\u001b[0;34m)\u001b[0m\u001b[0;34m\u001b[0m\u001b[0m\n\u001b[1;32m     27\u001b[0m             \u001b[0;32mif\u001b[0m \u001b[0;32mnot\u001b[0m \u001b[0mstatus\u001b[0m\u001b[0;34m:\u001b[0m\u001b[0;34m\u001b[0m\u001b[0m\n\u001b[0;32m---> 28\u001b[0;31m                 \u001b[0;32mraise\u001b[0m \u001b[0mValueError\u001b[0m\u001b[0;34m(\u001b[0m\u001b[0;34m\"Could not access server\"\u001b[0m\u001b[0;34m)\u001b[0m\u001b[0;34m\u001b[0m\u001b[0m\n\u001b[0m\u001b[1;32m     29\u001b[0m \u001b[0;34m\u001b[0m\u001b[0m\n\u001b[1;32m     30\u001b[0m         \u001b[0;32mif\u001b[0m \u001b[0mipython\u001b[0m\u001b[0;34m:\u001b[0m\u001b[0;34m\u001b[0m\u001b[0m\n",
      "\u001b[0;31mValueError\u001b[0m: Could not access server"
     ]
    }
   ],
   "source": [
    "pop = zip(pdf['superPopCode'], pdf['index'].astype(str))\n",
    "peeps = zip(pdf['sample'], pdf['index'].astype(str))\n",
    "preds = [(x, y, 1) for (x, y) in zip(pdf['prediction'],\n",
    "                                     pdf['index'].astype(str))]\n",
    "\n",
    "def getKey(item):\n",
    "    return item[1]\n",
    "\n",
    "g = sorted(pop, key=getKey)\n",
    "l = sorted(peeps, key=getKey)\n",
    "pr = sorted(preds, key=getKey)\n",
    "\n",
    "# Add 5 points for our force graph centers.\n",
    "\n",
    "groups = [\"0\", \"1\", \"2\", \"3\", \"4\"] + [x[0] for x in g]\n",
    "labels = [\"0\", \"1\", \"2\", \"3\", \"4\"] + [x[0] for x in l]\n",
    "predictions = [[x[0],x[2]] for x in pr]\n",
    "\n",
    "listIndices= list(range(5,len(predictions) + 5))\n",
    "i = 0\n",
    "for sublist in predictions:\n",
    "    sublist.insert(0,listIndices[i])\n",
    "    i += 1\n",
    "    \n",
    "from lightning import Lightning\n",
    "lgn = Lightning(host='http://public.lightning-viz.org')\n",
    "lgn.create_session('new')\n",
    "viz = lgn.force(predictions, group=groups, labels=labels)\n",
    "print viz.get_public_link()"
   ]
  },
  {
   "cell_type": "code",
   "execution_count": null,
   "metadata": {
    "collapsed": true
   },
   "outputs": [],
   "source": []
  }
 ],
 "metadata": {
  "anaconda-cloud": {},
  "kernelspec": {
   "display_name": "Hail",
   "language": "python",
   "name": "hail"
  },
  "language_info": {
   "codemirror_mode": {
    "name": "ipython",
    "version": 2
   },
   "file_extension": ".py",
   "mimetype": "text/x-python",
   "name": "python",
   "nbconvert_exporter": "python",
   "pygments_lexer": "ipython2",
   "version": "2.7.13"
  }
 },
 "nbformat": 4,
 "nbformat_minor": 1
}
